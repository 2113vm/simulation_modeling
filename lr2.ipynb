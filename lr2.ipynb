{
 "cells": [
  {
   "cell_type": "markdown",
   "metadata": {},
   "source": [
    "# Лабораторная работа №2\n",
    "# Моделирование работы касс супермаркета при помощи библиотеки SimPy\n",
    "\n",
    "### Задача\n",
    "Смоделировать работу супермаркета по следующим условиям:\n",
    "* Поток клиентов имеет распределение Пуассона с интенсивностью l = 3 человека в минуту\n",
    "* Средний чек составляет 200±50 рублей\n",
    "* Время обслуживания клиента t_service = 2 минуты\n",
    "* Если все кассы заняты, то клиент встаёт в самую короткую очередь\n",
    "* Если очередь в каждой кассе 5 и более человек, клиент покидает магазин\n",
    "* Кассы работают до последнего клиента\n",
    "\n",
    "Построить график доходов и недополученных доходов магазина в зависимости от числа касс.\n",
    "(Определить оптимальное число кассиров, если стоимость содержания кассы 100 т.р. в месяц.)\n",
    "\n",
    "Скорректировать программу так, чтобы задать различную интенсивность потока клиентов в разное время дня.\n",
    "\n",
    "### Импорт требуемых библиотек"
   ]
  },
  {
   "cell_type": "code",
   "execution_count": 1,
   "metadata": {},
   "outputs": [],
   "source": [
    "%matplotlib inline\n",
    "import matplotlib.pyplot as plt\n",
    "import numpy as np\n",
    "import simpy"
   ]
  },
  {
   "cell_type": "markdown",
   "metadata": {},
   "source": [
    "### Глобальные переменные для накопления статистики"
   ]
  },
  {
   "cell_type": "code",
   "execution_count": 2,
   "metadata": {},
   "outputs": [],
   "source": [
    "q_len = 0  # Длина очереди (общее число человек во все кассы)\n",
    "t_service = 2  # Время обслуживания - 2 минуты\n",
    "n_kass = 3  # Число касс\n",
    "sum_revenue = 0  # Суммарный доход магазина\n",
    "sum_loss = 0  # Недополученный доход\n",
    "client_loss = 0  # Число ушедших клиентов"
   ]
  },
  {
   "cell_type": "markdown",
   "metadata": {},
   "source": [
    "### Определим модель поведения клиента"
   ]
  },
  {
   "cell_type": "code",
   "execution_count": 3,
   "metadata": {},
   "outputs": [],
   "source": [
    "def client(env, kassa, start_time):\n",
    "    global q_len\n",
    "    global t_service\n",
    "    global n_kass\n",
    "    global sum_revenue\n",
    "    global sum_loss\n",
    "    global client_loss\n",
    "    money = 150 + 100 * np.random.random()  # Сколько денег планирует потратить клиент\n",
    "    # Начинаем симуляцию с момента прихода\n",
    "    yield env.timeout(start_time)\n",
    "    # print(f\"Клиент пришёл в {env.now}\")\n",
    "    with kassa.request() as req:\n",
    "        results = yield req | env.timeout(5)  # Клиент ждёт 5 минут и уходит\n",
    "        if req in results:\n",
    "            yield env.timeout(t_service)  # Время обслуживания\n",
    "            sum_revenue += money  # Клиент оставляет свои деньги в магазине\n",
    "        else:\n",
    "            sum_loss += money  # Клиент уходит вместе с деньгами\n",
    "            client_loss += 1\n",
    "#    if q_len / n_kass < 5:  # Если очередь в каждую кассу не превышает 5 человек,\n",
    "#        q_len +=1           # то клиент встаёт в очередь\n",
    "#        # Занимаем ресурс \"Касса\"\n",
    "#        with kassa.request() as req:\n",
    "#            yield req  # Ждём пока касса не освободится\n",
    "#            # print(f\"Начало обслуживания в {env.now}\")\n",
    "#            q_len -= 1\n",
    "#            yield env.timeout(t_service)  # Время обслуживания\n",
    "#            # print(f\"Клиент ушёл в {env.now}\")\n",
    "#            sum_revenue += money  # Клиент оставляет свои деньги в магазине\n",
    "#    else:\n",
    "#        sum_loss += money  # Клиент уходит вместе с деньгами\n",
    "#        client_loss += 1"
   ]
  },
  {
   "cell_type": "markdown",
   "metadata": {},
   "source": [
    "### Запуск моделирования"
   ]
  },
  {
   "cell_type": "code",
   "execution_count": 4,
   "metadata": {},
   "outputs": [
    {
     "name": "stdout",
     "output_type": "stream",
     "text": [
      "Симуляция для 1 касс\n",
      "Симуляция для 2 касс\n",
      "Симуляция для 3 касс\n",
      "Симуляция для 4 касс\n",
      "Симуляция для 5 касс\n",
      "Симуляция для 6 касс\n",
      "Симуляция для 7 касс\n",
      "Симуляция для 8 касс\n",
      "Симуляция для 9 касс\n",
      "Симуляция для 10 касс\n"
     ]
    }
   ],
   "source": [
    "revenue = []\n",
    "losses = []\n",
    "client_losses = []\n",
    "kass_num = [x+1 for x in range(10)]\n",
    "for i in kass_num:\n",
    "    n_kass = i  # Для числа касс от 1 до 10 выполним симуляцию\n",
    "    print(f\"Симуляция для {n_kass} касс\")\n",
    "    sum_revenue, sum_loss, client_loss, q_len = 0, 0, 0, 0  # Обнулим счётчики\n",
    "    \n",
    "    env = simpy.Environment()  # Создадим окружение SimPy\n",
    "    kassa = simpy.Resource(env, capacity=n_kass)  # Добавим в окружение кассы\n",
    "    l = 3  # Интенсивность потока клиентов равна 3\n",
    "    sim_time = 720  # Время симуляции - 60 * 12 = 720 минут\n",
    "    # Определим число пришедших клиентов по закону Пуассона\n",
    "    # client_num = np.random.poisson(l, sim_time)\n",
    "    client_num = list(np.random.poisson(0.1, 120))\n",
    "    client_num += list(np.random.poisson(4, 120))\n",
    "    client_num += list(np.random.poisson(1, 180))\n",
    "    client_num += list(np.random.poisson(5, 240))\n",
    "    client_num += list(np.random.poisson(1, 60))\n",
    "    # Добавим клиентов в окружение для симуляции с учётом времени их прихода\n",
    "    for t in range(sim_time):  \n",
    "        for j in range(client_num[t]):\n",
    "            env.process(client(env, kassa, t))\n",
    "    # Выполним симуляцию и сохраним полученные результаты\n",
    "    env.run()\n",
    "    revenue.append(sum_revenue)\n",
    "    losses.append(sum_loss)\n",
    "    client_losses.append(client_loss)"
   ]
  },
  {
   "cell_type": "markdown",
   "metadata": {},
   "source": [
    "### Построить графики и сделать выводы"
   ]
  },
  {
   "cell_type": "code",
   "execution_count": 5,
   "metadata": {},
   "outputs": [
    {
     "data": {
      "image/png": "[encoded data removed]",
      "text/plain": [
       "<Figure size 432x288 with 1 Axes>"
      ]
     },
     "metadata": {},
     "output_type": "display_data"
    }
   ],
   "source": [
    "# Построим столбчатую диаграмму доходов и упущеной выгоды магазина\n",
    "xs = range(len(kass_num))\n",
    "plt.bar([x + 0.05 for x in xs],  # Координаты x стобцов\n",
    "        revenue,  # Высота столбца соответствует полученным одходам\n",
    "        width = 0.2, color = 'blue', alpha = 0.7, label = 'revenue',\n",
    "        zorder = 2)\n",
    "plt.bar([x + 0.3 for x in xs], losses,\n",
    "        width = 0.2, color = 'red', alpha = 0.7, label = 'losses',\n",
    "        zorder = 2)\n",
    "plt.xticks(xs, kass_num)\n",
    "plt.legend(loc='upper right')\n",
    "plt.show()"
   ]
  },
  {
   "cell_type": "code",
   "execution_count": null,
   "metadata": {
    "collapsed": true
   },
   "outputs": [],
   "source": []
  }
 ],
 "metadata": {
  "kernelspec": {
   "display_name": "Python 3",
   "language": "python",
   "name": "python3"
  },
  "language_info": {
   "codemirror_mode": {
    "name": "ipython",
    "version": 3
   },
   "file_extension": ".py",
   "mimetype": "text/x-python",
   "name": "python",
   "nbconvert_exporter": "python",
   "pygments_lexer": "ipython3",
   "version": "3.6.5"
  }
 },
 "nbformat": 4,
 "nbformat_minor": 2
}
