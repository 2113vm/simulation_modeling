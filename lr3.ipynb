{
 "cells": [
  {
   "cell_type": "markdown",
   "metadata": {},
   "source": [
    "# Лабораторная работа №3.\n",
    "# Симуляция игр в чистых и смешаных стратегиях.\n",
    "\n",
    "### 1. Импорт требуемых библиотек"
   ]
  },
  {
   "cell_type": "code",
   "execution_count": 1,
   "metadata": {
    "collapsed": true
   },
   "outputs": [],
   "source": [
    "%matplotlib inline\n",
    "import matplotlib.pyplot as plt\n",
    "import numpy as np\n",
    "import pandas as pd"
   ]
  },
  {
   "cell_type": "markdown",
   "metadata": {},
   "source": [
    "### 2. Решение игры аналитически в чистых стратегиях"
   ]
  },
  {
   "cell_type": "code",
   "execution_count": 2,
   "metadata": {},
   "outputs": [
    {
     "data": {
      "text/html": [
       "<div>\n",
       "<style>\n",
       "    .dataframe thead tr:only-child th {\n",
       "        text-align: right;\n",
       "    }\n",
       "\n",
       "    .dataframe thead th {\n",
       "        text-align: left;\n",
       "    }\n",
       "\n",
       "    .dataframe tbody tr th {\n",
       "        vertical-align: top;\n",
       "    }\n",
       "</style>\n",
       "<table border=\"1\" class=\"dataframe\">\n",
       "  <thead>\n",
       "    <tr style=\"text-align: right;\">\n",
       "      <th></th>\n",
       "      <th>0</th>\n",
       "      <th>1</th>\n",
       "    </tr>\n",
       "  </thead>\n",
       "  <tbody>\n",
       "    <tr>\n",
       "      <th>0</th>\n",
       "      <td>3</td>\n",
       "      <td>8</td>\n",
       "    </tr>\n",
       "    <tr>\n",
       "      <th>1</th>\n",
       "      <td>7</td>\n",
       "      <td>4</td>\n",
       "    </tr>\n",
       "  </tbody>\n",
       "</table>\n",
       "</div>"
      ],
      "text/plain": [
       "   0  1\n",
       "0  3  8\n",
       "1  7  4"
      ]
     },
     "execution_count": 2,
     "metadata": {},
     "output_type": "execute_result"
    }
   ],
   "source": [
    "# Матрица игры\n",
    "A = pd.DataFrame([[3, 8],\n",
    "                  [7, 4]])\n",
    "A"
   ]
  },
  {
   "cell_type": "code",
   "execution_count": 3,
   "metadata": {},
   "outputs": [
    {
     "name": "stdout",
     "output_type": "stream",
     "text": [
      "Минимальный гарантированный выигрыш первого игрока [3, 4] при выборе i-ой стратегии\n",
      "Цена игры для первого игрока v = 4, стратегия s1 = 1\n"
     ]
    }
   ],
   "source": [
    "# Для первого игрока: максимин (максимизируем гарантированный выигрыш)\n",
    "A_min = list(map(min, A.values))\n",
    "print(f\"Минимальный гарантированный выигрыш первого игрока {A_min}\"\n",
    "       \" при выборе i-ой стратегии\")\n",
    "v1 = max(A_min)  # Максимин матрицы игры\n",
    "s1 = A_min.index(v1)  # Номер стратегии первого игрока\n",
    "print(f\"Цена игры для первого игрока v = {v1}, стратегия s1 = {s1}\")"
   ]
  },
  {
   "cell_type": "code",
   "execution_count": 17,
   "metadata": {},
   "outputs": [
    {
     "name": "stdout",
     "output_type": "stream",
     "text": [
      "Минимальный возможный проигрыш второго игрока [7, 8] при выборе j-ой стратегии\n",
      "Цена игры для второго игрока v = 7, стратегия s2 = 0\n"
     ]
    }
   ],
   "source": [
    "# Для второго игрока: минимакс (минимизируем проигрыш)\n",
    "A_t = A.transpose()\n",
    "A_max = list(map(max, A_t.values))\n",
    "print(f\"Минимальный возможный проигрыш второго игрока {A_max}\"\n",
    "       \" при выборе j-ой стратегии\")\n",
    "v2 = min(A_max)  # Минимакс матрицы игры\n",
    "s2 = A_max.index(v2)  # Номер стратегии второго игрока\n",
    "print(f\"Цена игры для второго игрока v = {v2}, стратегия s2 = {s2}\")"
   ]
  },
  {
   "cell_type": "markdown",
   "metadata": {},
   "source": [
    "### 3. Решение игры аналитически в смешанных стратегиях "
   ]
  },
  {
   "cell_type": "code",
   "execution_count": 5,
   "metadata": {},
   "outputs": [
    {
     "name": "stdout",
     "output_type": "stream",
     "text": [
      "Вероятность выбора стратегии 0 первым игроком: 0.5\n",
      "Вероятность выбора стратегии 1 первым игроком: 0.5\n",
      "Вероятность выбора стратегии 0 вторым игроком: 0.375\n",
      "Вероятность выбора стратегии 1 вторым игроком: 0.625\n",
      "Цена игры в смешанных стратегиях: 5.5\n"
     ]
    }
   ],
   "source": [
    "# Решим игру аналитически в смешаных стратегиях для первого и второго игроков\n",
    "\n",
    "# Вероятность выбора стратегии 0 первым игроком\n",
    "p1 = (A[1][1] - A[1][0]) / (A[0][0] + A[1][1] - A[1][0] - A[0][1])\n",
    "print(f\"Вероятность выбора стратегии 0 первым игроком: {p1}\")\n",
    "# Вероятность выбора стратегии 1 первым игроком\n",
    "q1 = (A[0][0] - A[0][1]) / (A[0][0] + A[1][1] - A[1][0] - A[0][1])\n",
    "print(f\"Вероятность выбора стратегии 1 первым игроком: {q1}\")\n",
    "\n",
    "# Вероятность выбора стратегии 0 вторым игроком\n",
    "p2 = (A[1][1] - A[0][1]) / (A[0][0] + A[1][1] - A[1][0] - A[0][1])\n",
    "print(f\"Вероятность выбора стратегии 0 вторым игроком: {p2}\")\n",
    "# Вероятность выбора стратегии 1 вторым игроком\n",
    "q2 = (A[0][0] - A[1][0]) / (A[0][0] + A[1][1] - A[1][0] - A[0][1])\n",
    "print(f\"Вероятность выбора стратегии 1 вторым игроком: {q2}\")\n",
    "\n",
    "# Цена игры\n",
    "v = (A[0][0] * A[1][1] - A[0][1] * A[1][0]) / (A[0][0] + A[1][1] - A[1][0] - A[0][1])\n",
    "print(f\"Цена игры в смешанных стратегиях: {v}\")"
   ]
  },
  {
   "cell_type": "markdown",
   "metadata": {},
   "source": [
    "### 4. Моделирование игры\n",
    "Выполним моделирование игры и найдём средний выигрыш первого игрока при применении следующих стратегий:\n",
    "1. Игрок играет в соответствии с максиминной (минимаксной стратегией)\n",
    "2. Игрок играет в соответствии со смешаной стратегией\n",
    "3. Игрок выбирает стратегию случайным образом (50 / 50)"
   ]
  },
  {
   "cell_type": "code",
   "execution_count": 6,
   "metadata": {
    "collapsed": true
   },
   "outputs": [],
   "source": [
    "n = 500  # Число экспериментов\n",
    "x = np.random.random(n)  # Сгенерируем выбор первого игрока\n",
    "y = np.random.random(n)  # Сгенерируем выбор второго игрока"
   ]
  },
  {
   "cell_type": "code",
   "execution_count": 14,
   "metadata": {},
   "outputs": [],
   "source": [
    "v_mod = pd.DataFrame([[.0, .0, .0],\n",
    "                      [.0, .0, .0],\n",
    "                      [.0, .0, .0]])\n",
    "for i in range(n):\n",
    "    p_x = x[i]\n",
    "    p_y = y[i]\n",
    "    # Первый игрок играет по максиминной стратегии\n",
    "    S_a = s1\n",
    "\n",
    "    # Второй игрок играем по минимаксной стратегии\n",
    "    S_b = s2\n",
    "    v_mod[0][0] += A[S_b][S_a]\n",
    "    # Второй игрок использует смешаную стратегию\n",
    "    S_b = 0 if p_y < p2 else 1\n",
    "    v_mod[0][1] += A[S_b][S_a]\n",
    "    # Второй игрок играет 50/50\n",
    "    S_b = 0 if p_y < 0.5 else 1\n",
    "    v_mod[0][2] += A[S_b][S_a]\n",
    "\n",
    "v_mod[0][0] /= n\n",
    "v_mod[0][1] /= n\n",
    "v_mod[0][2] /= n"
   ]
  },
  {
   "cell_type": "code",
   "execution_count": 15,
   "metadata": {},
   "outputs": [],
   "source": [
    "for i in range(n):\n",
    "    p_x = x[i]\n",
    "    p_y = y[i]\n",
    "    # Первый игрок использует смешаную стратегию\n",
    "    S_a = 0 if p_x < p1 else 1\n",
    "    \n",
    "    # Второй игрок играем по минимаксной стратегии\n",
    "    S_b = s2\n",
    "    v_mod[1][0] += A[S_b][S_a]\n",
    "    # Второй игрок использует смешаную стратегию\n",
    "    S_b = 0 if p_y < p2 else 1\n",
    "    v_mod[1][1] += A[S_b][S_a]\n",
    "    # Второй игрок играет 50/50\n",
    "    S_b = 0 if p_y < 0.5 else 1\n",
    "    v_mod[1][2] += A[S_b][S_a]\n",
    "\n",
    "v_mod[1][0] /= n\n",
    "v_mod[1][1] /= n\n",
    "v_mod[1][2] /= n"
   ]
  },
  {
   "cell_type": "code",
   "execution_count": 16,
   "metadata": {},
   "outputs": [
    {
     "data": {
      "text/html": [
       "<div>\n",
       "<style>\n",
       "    .dataframe thead tr:only-child th {\n",
       "        text-align: right;\n",
       "    }\n",
       "\n",
       "    .dataframe thead th {\n",
       "        text-align: left;\n",
       "    }\n",
       "\n",
       "    .dataframe tbody tr th {\n",
       "        vertical-align: top;\n",
       "    }\n",
       "</style>\n",
       "<table border=\"1\" class=\"dataframe\">\n",
       "  <thead>\n",
       "    <tr style=\"text-align: right;\">\n",
       "      <th></th>\n",
       "      <th>0</th>\n",
       "      <th>1</th>\n",
       "      <th>2</th>\n",
       "    </tr>\n",
       "  </thead>\n",
       "  <tbody>\n",
       "    <tr>\n",
       "      <th>0</th>\n",
       "      <td>7.0</td>\n",
       "      <td>5.176</td>\n",
       "      <td>5.530</td>\n",
       "    </tr>\n",
       "    <tr>\n",
       "      <th>1</th>\n",
       "      <td>5.0</td>\n",
       "      <td>5.608</td>\n",
       "      <td>5.338</td>\n",
       "    </tr>\n",
       "    <tr>\n",
       "      <th>2</th>\n",
       "      <td>5.0</td>\n",
       "      <td>5.608</td>\n",
       "      <td>5.338</td>\n",
       "    </tr>\n",
       "  </tbody>\n",
       "</table>\n",
       "</div>"
      ],
      "text/plain": [
       "     0      1      2\n",
       "0  7.0  5.176  5.530\n",
       "1  5.0  5.608  5.338\n",
       "2  5.0  5.608  5.338"
      ]
     },
     "execution_count": 16,
     "metadata": {},
     "output_type": "execute_result"
    }
   ],
   "source": [
    "for i in range(n):\n",
    "    p_x = x[i]\n",
    "    p_y = y[i]\n",
    "    # Первый игрок играет 50/50\n",
    "    S_a = 0 if p_x < 0.5 else 1\n",
    "    \n",
    "    # Второй игрок играем по минимаксной стратегии\n",
    "    S_b = s2\n",
    "    v_mod[2][0] += A[S_b][S_a]\n",
    "    # Второй игрок использует смешаную стратегию\n",
    "    S_b = 0 if p_y < p2 else 1\n",
    "    v_mod[2][1] += A[S_b][S_a]\n",
    "    # Второй игрок играет 50/50\n",
    "    S_b = 0 if p_y < 0.5 else 1\n",
    "    v_mod[2][2] += A[S_b][S_a]\n",
    "    \n",
    "v_mod[2][0] /= n\n",
    "v_mod[2][1] /= n\n",
    "v_mod[2][2] /= n\n",
    "\n",
    "v_mod.transpose()"
   ]
  },
  {
   "cell_type": "markdown",
   "metadata": {},
   "source": [
    "Строки - выбор первого игрока:\n",
    "* 0 - Максимин\n",
    "* 1 - Смешанные стратегии\n",
    "* 2 - 50/50 (в данном случае совпало с его смешаной стратегией)\n",
    "\n",
    "Столбцы - выбор второго игрока:\n",
    "* 0 - Минимакс\n",
    "* 1 - Смешанные стратегии\n",
    "* 2 - 50/50"
   ]
  },
  {
   "cell_type": "code",
   "execution_count": null,
   "metadata": {
    "collapsed": true
   },
   "outputs": [],
   "source": []
  }
 ],
 "metadata": {
  "kernelspec": {
   "display_name": "Python 3",
   "language": "python",
   "name": "python3"
  },
  "language_info": {
   "codemirror_mode": {
    "name": "ipython",
    "version": 3
   },
   "file_extension": ".py",
   "mimetype": "text/x-python",
   "name": "python",
   "nbconvert_exporter": "python",
   "pygments_lexer": "ipython3",
   "version": "3.6.3"
  }
 },
 "nbformat": 4,
 "nbformat_minor": 2
}
